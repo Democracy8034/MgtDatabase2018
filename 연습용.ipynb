{
 "cells": [
  {
   "cell_type": "code",
   "execution_count": 10,
   "metadata": {},
   "outputs": [
    {
     "name": "stdout",
     "output_type": "stream",
     "text": [
      "택시를 타라\n"
     ]
    }
   ],
   "source": [
    "# 돈이 3000원 이상 있거나 카드가 있따면 택시를 타고 그렇지 않으면 걸어가락\n",
    "\n",
    "money=2000\n",
    "card = 1\n",
    "if money >= 3000 or card:\n",
    "    print(\"택시를 타라\")\n",
    "else:\n",
    "    print(\"걸어가라\")"
   ]
  },
  {
   "cell_type": "code",
   "execution_count": 21,
   "metadata": {},
   "outputs": [
    {
     "name": "stdout",
     "output_type": "stream",
     "text": [
      "택시를 타라\n"
     ]
    }
   ],
   "source": [
    "pocket=['phone', 'hand','money']\n",
    "card = 1\n",
    "if 'money' in pocket:\n",
    "    print(\"택시를 타라\")\n",
    "elif 'card' in pocket:\n",
    "    print(\"택시를 타라\")\n",
    "else:\n",
    "    print(\"걸어가라\")"
   ]
  },
  {
   "cell_type": "code",
   "execution_count": 1,
   "metadata": {},
   "outputs": [
    {
     "name": "stdout",
     "output_type": "stream",
     "text": [
      "나무를 1번 찍습니다.\n",
      "나무를 2번 찍습니다.\n",
      "나무를 3번 찍습니다.\n",
      "나무를 4번 찍습니다.\n",
      "나무를 5번 찍습니다.\n",
      "나무를 6번 찍습니다.\n",
      "나무를 7번 찍습니다.\n",
      "나무를 8번 찍습니다.\n",
      "나무를 9번 찍습니다.\n",
      "나무를 10번 찍습니다.\n",
      "나무가 넘어갑니다\n"
     ]
    }
   ],
   "source": [
    "treehit=0\n",
    "while treehit < 10:\n",
    "    treehit=treehit+1\n",
    "    print(\"나무를 {treehit}번 찍습니다.\".format(treehit=treehit))\n",
    "    if treehit==10:\n",
    "        print(\"나무가 넘어갑니다\")"
   ]
  },
  {
   "cell_type": "code",
   "execution_count": 6,
   "metadata": {},
   "outputs": [
    {
     "name": "stdout",
     "output_type": "stream",
     "text": [
      "1번 학생 합격입니다.\n",
      "2번 학생 불합격입니다.\n",
      "3번 학생 합격입니다.\n",
      "4번 학생 불합격입니다.\n",
      "5번 학생 합격입니다.\n"
     ]
    }
   ],
   "source": [
    "marks=[90,25,67,45,80]\n",
    "number=0\n",
    "for mark in marks:\n",
    "    number=number+1\n",
    "    if mark>=60 :\n",
    "        print(\"{number}번 학생 합격입니다.\".format(number=number))\n",
    "    else :\n",
    "        print(\"{number}번 학생 불합격입니다.\".format(number=number))"
   ]
  },
  {
   "cell_type": "code",
   "execution_count": 2,
   "metadata": {},
   "outputs": [
    {
     "name": "stdout",
     "output_type": "stream",
     "text": [
      "걸어가라\n"
     ]
    }
   ],
   "source": [
    "money=2000\n",
    "if money >= 3000:\n",
    "    print(\"택시를 타자\")\n",
    "else:\n",
    "    print(\"걸어가라\")"
   ]
  },
  {
   "cell_type": "code",
   "execution_count": 4,
   "metadata": {},
   "outputs": [
    {
     "name": "stdout",
     "output_type": "stream",
     "text": [
      "택시를 타자\n"
     ]
    }
   ],
   "source": [
    "money=2000\n",
    "card=1\n",
    "if money >= 3000 or card:\n",
    "    print(\"택시를 타자\")\n",
    "else:\n",
    "    print(\"걸어가자\")"
   ]
  },
  {
   "cell_type": "code",
   "execution_count": 6,
   "metadata": {},
   "outputs": [
    {
     "name": "stdout",
     "output_type": "stream",
     "text": [
      "택시를 타자\n"
     ]
    }
   ],
   "source": [
    "pocket=['paper','card','handphone']\n",
    "if 'money' in pocket:\n",
    "    print(\"택시를 타자\")\n",
    "elif 'card' in pocket:\n",
    "    print(\"택시를 타자\")\n",
    "else:\n",
    "    print(\"걸어가자\")"
   ]
  },
  {
   "cell_type": "code",
   "execution_count": null,
   "metadata": {},
   "outputs": [],
   "source": [
    "treehit=0\n",
    "while treehit<10:\n",
    "    treehit=treehit+1\n",
    "    print(\"{treehit}번 찍었습니다.\".format(treehit=treehit))\n",
    "    treehit>=10:\n",
    "    "
   ]
  },
  {
   "cell_type": "code",
   "execution_count": 1,
   "metadata": {},
   "outputs": [
    {
     "data": {
      "text/plain": [
       "'1. 추가\\n2. 삭제\\n3. 리스트\\n4. 나가기'"
      ]
     },
     "execution_count": 1,
     "metadata": {},
     "output_type": "execute_result"
    }
   ],
   "source": [
    "promt=\"\"\"1. 추가\n",
    "2. 삭제\n",
    "3. 리스트\n",
    "4. 나가기\"\"\"\n",
    "promt"
   ]
  },
  {
   "cell_type": "code",
   "execution_count": null,
   "metadata": {},
   "outputs": [
    {
     "name": "stdout",
     "output_type": "stream",
     "text": [
      "1. 추가\n",
      "2. 삭제\n",
      "3. 리스트\n",
      "4. 나가기\n"
     ]
    }
   ],
   "source": [
    "number=0\n",
    "while number!=4:\n",
    "    print(promt)\n",
    "    number=int(input())"
   ]
  },
  {
   "cell_type": "code",
   "execution_count": 2,
   "metadata": {},
   "outputs": [
    {
     "name": "stdout",
     "output_type": "stream",
     "text": [
      "커피 나온다.\n",
      "커피 나온다.\n",
      "커피 나온다.\n",
      "커피 나온다.\n",
      "커피 나온다.\n",
      "커피 나온다.\n",
      "커피 나온다.\n",
      "커피 나온다.\n",
      "커피 나온다.\n",
      "커피 나온다.\n",
      "커피가 없습니다.\n"
     ]
    }
   ],
   "source": [
    "coffee=10\n",
    "money=300\n",
    "while money:\n",
    "    print(\"커피 나온다.\")\n",
    "    coffee=coffee-1\n",
    "    if not coffee:\n",
    "        print(\"커피가 없습니다.\")\n",
    "        break"
   ]
  },
  {
   "cell_type": "code",
   "execution_count": 17,
   "metadata": {},
   "outputs": [
    {
     "name": "stdout",
     "output_type": "stream",
     "text": [
      "1\n",
      "3\n",
      "5\n",
      "7\n",
      "9\n"
     ]
    }
   ],
   "source": [
    "a=0\n",
    "while a<10:\n",
    "    a=a+1\n",
    "    if a % 2 == 0 : continue\n",
    "    else:\n",
    "        print(a)"
   ]
  },
  {
   "cell_type": "code",
   "execution_count": 22,
   "metadata": {},
   "outputs": [
    {
     "name": "stdout",
     "output_type": "stream",
     "text": [
      "합격\n",
      "불합격\n",
      "합격\n",
      "불합격\n",
      "합격\n"
     ]
    }
   ],
   "source": [
    "scores=[90,25,67,45,80]\n",
    "for score in scores:\n",
    "    if score >=60:\n",
    "        print(\"합격\")\n",
    "    else:\n",
    "        print(\"불합격\")"
   ]
  },
  {
   "cell_type": "code",
   "execution_count": 1,
   "metadata": {},
   "outputs": [
    {
     "name": "stdout",
     "output_type": "stream",
     "text": [
      "걸어가자\n"
     ]
    }
   ],
   "source": [
    "money=2000\n",
    "if money>=3000:\n",
    "    print(\"택시를 타자\")\n",
    "else:\n",
    "    print(\"걸어가자\")"
   ]
  },
  {
   "cell_type": "code",
   "execution_count": 2,
   "metadata": {},
   "outputs": [
    {
     "name": "stdout",
     "output_type": "stream",
     "text": [
      "택시를 타자\n"
     ]
    }
   ],
   "source": [
    "money=2000\n",
    "card=1\n",
    "if money>=3000 or card:\n",
    "    print(\"택시를 타자\")\n",
    "else:\n",
    "    print(\"걸어가자\")"
   ]
  },
  {
   "cell_type": "code",
   "execution_count": 3,
   "metadata": {},
   "outputs": [
    {
     "name": "stdout",
     "output_type": "stream",
     "text": [
      "택시를 타자\n"
     ]
    }
   ],
   "source": [
    "pocket=['paper','card','handphone']\n",
    "if money or card in pocket:\n",
    "    print(\"택시를 타자\")\n",
    "else: \n",
    "    print(\"걸어가자\")"
   ]
  },
  {
   "cell_type": "code",
   "execution_count": 4,
   "metadata": {},
   "outputs": [
    {
     "name": "stdout",
     "output_type": "stream",
     "text": [
      "1번 나무를 찍었습니다.\n",
      "2번 나무를 찍었습니다.\n",
      "3번 나무를 찍었습니다.\n",
      "4번 나무를 찍었습니다.\n",
      "5번 나무를 찍었습니다.\n",
      "6번 나무를 찍었습니다.\n",
      "7번 나무를 찍었습니다.\n",
      "8번 나무를 찍었습니다.\n",
      "9번 나무를 찍었습니다.\n",
      "10번 나무를 찍었습니다.\n",
      "나무가 쓰러집니다.\n"
     ]
    }
   ],
   "source": [
    "treehit=0\n",
    "while treehit < 10:\n",
    "    treehit=treehit+1\n",
    "    print(\"{treehit}번 나무를 찍었습니다.\".format(treehit=treehit))\n",
    "    if treehit == 10:\n",
    "        print(\"나무가 쓰러집니다.\")"
   ]
  },
  {
   "cell_type": "code",
   "execution_count": 7,
   "metadata": {},
   "outputs": [
    {
     "name": "stdout",
     "output_type": "stream",
     "text": [
      "1. 추가\n",
      "2. 삭제\n",
      "3. 리스트\n",
      "4. 나가기\n",
      "1. 추가\n",
      "2. 삭제\n",
      "3. 리스트\n",
      "4. 나가기\n",
      "1. 추가\n",
      "2. 삭제\n",
      "3. 리스트\n",
      "4. 나가기\n",
      "1. 추가\n",
      "2. 삭제\n",
      "3. 리스트\n",
      "4. 나가기\n"
     ]
    }
   ],
   "source": [
    "prompt=\"\"\"1. 추가\n",
    "2. 삭제\n",
    "3. 리스트\n",
    "4. 나가기\"\"\"\n",
    "number=0\n",
    "while number != 4:\n",
    "    print(prompt)\n",
    "    number=int(input())"
   ]
  },
  {
   "cell_type": "code",
   "execution_count": 12,
   "metadata": {},
   "outputs": [
    {
     "name": "stdout",
     "output_type": "stream",
     "text": [
      "커피 나온다\n",
      "커피 나온다\n",
      "커피 나온다\n",
      "커피 나온다\n",
      "커피 나온다\n",
      "커피 나온다\n",
      "커피 나온다\n",
      "커피 나온다\n",
      "커피 나온다\n",
      "커피 나온다\n",
      "커피 없습니다.\n"
     ]
    }
   ],
   "source": [
    "coffee=10\n",
    "money=300\n",
    "while money:\n",
    "    print(\"커피 나온다\")\n",
    "    coffee=coffee-1\n",
    "    if not coffee:\n",
    "        print(\"커피 없습니다.\")\n",
    "        break"
   ]
  },
  {
   "cell_type": "code",
   "execution_count": 15,
   "metadata": {},
   "outputs": [
    {
     "data": {
      "text/plain": [
       "range(1, 11)"
      ]
     },
     "execution_count": 15,
     "metadata": {},
     "output_type": "execute_result"
    }
   ],
   "source": [
    "range(1,11)"
   ]
  },
  {
   "cell_type": "code",
   "execution_count": 18,
   "metadata": {},
   "outputs": [
    {
     "name": "stdout",
     "output_type": "stream",
     "text": [
      "1\n",
      "3\n",
      "5\n",
      "7\n",
      "9\n"
     ]
    }
   ],
   "source": [
    "a=0\n",
    "while a <10:\n",
    "    a=a+1\n",
    "    if a % 2 ==0:continue\n",
    "    else: print(a)"
   ]
  },
  {
   "cell_type": "code",
   "execution_count": 27,
   "metadata": {},
   "outputs": [
    {
     "name": "stdout",
     "output_type": "stream",
     "text": [
      "1번 학생 합격\n",
      "2번 학생 불합격\n",
      "3번 학생 합격\n",
      "4번 학생 불합격\n",
      "5번 학생 합격\n"
     ]
    }
   ],
   "source": [
    "scores=[90,25,67,45,80]\n",
    "number=0\n",
    "for score in scores:\n",
    "    number=number+1\n",
    "    if score >= 60:\n",
    "        print(\"{number}번 학생 합격\".format(number=number))\n",
    "    else: \n",
    "        print(\"{number}번 학생 불합격\".format(number=number))"
   ]
  },
  {
   "cell_type": "code",
   "execution_count": null,
   "metadata": {},
   "outputs": [],
   "source": []
  }
 ],
 "metadata": {
  "kernelspec": {
   "display_name": "Python 3",
   "language": "python",
   "name": "python3"
  },
  "language_info": {
   "codemirror_mode": {
    "name": "ipython",
    "version": 3
   },
   "file_extension": ".py",
   "mimetype": "text/x-python",
   "name": "python",
   "nbconvert_exporter": "python",
   "pygments_lexer": "ipython3",
   "version": "3.6.4"
  }
 },
 "nbformat": 4,
 "nbformat_minor": 2
}
